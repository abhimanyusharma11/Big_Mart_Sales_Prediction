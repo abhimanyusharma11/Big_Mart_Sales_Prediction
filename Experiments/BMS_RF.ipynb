{
 "cells": [
  {
   "cell_type": "code",
   "execution_count": 1,
   "id": "aad2c4c8",
   "metadata": {},
   "outputs": [],
   "source": [
    "import pandas as pd\n",
    "import numpy as np\n",
    "import matplotlib.pyplot as plt\n",
    "import seaborn as sns\n",
    "from sklearn.preprocessing import LabelEncoder\n",
    "from sklearn.linear_model import LinearRegression\n",
    "from sklearn.metrics import mean_squared_error\n",
    "from sklearn.ensemble import RandomForestRegressor\n",
    "from xgboost import XGBRegressor\n",
    "from lightgbm import LGBMRegressor\n",
    "from catboost import CatBoostRegressor"
   ]
  },
  {
   "cell_type": "code",
   "execution_count": 35,
   "id": "30aea958",
   "metadata": {},
   "outputs": [],
   "source": [
    "data = pd.read_csv(\"train_v9rqX0R.csv\")"
   ]
  },
  {
   "cell_type": "code",
   "execution_count": 36,
   "id": "20023af7",
   "metadata": {},
   "outputs": [],
   "source": [
    "test = pd.read_csv(\"test_AbJTz2l.csv\")"
   ]
  },
  {
   "cell_type": "code",
   "execution_count": 37,
   "id": "b1b539ee",
   "metadata": {},
   "outputs": [],
   "source": [
    "def preprocess(df):\n",
    "    df['Item_Weight'].fillna(data['Item_Weight'].mean(), inplace=True)\n",
    "    df['Outlet_Size'] = df['Outlet_Size'].fillna('No data')\n",
    "    df['Item_Fat_Content'] = df['Item_Fat_Content'].replace({\n",
    "        'LF': 'Low Fat',\n",
    "        'low fat': 'Low Fat',\n",
    "        'reg': 'Regular'\n",
    "    })\n",
    "    return df"
   ]
  },
  {
   "cell_type": "code",
   "execution_count": 38,
   "id": "36b3e391",
   "metadata": {},
   "outputs": [],
   "source": [
    "data = preprocess(data)\n",
    "test = preprocess(test)"
   ]
  },
  {
   "cell_type": "code",
   "execution_count": null,
   "id": "f0769ff4",
   "metadata": {},
   "outputs": [],
   "source": [
    "data.head()"
   ]
  },
  {
   "cell_type": "code",
   "execution_count": 18,
   "id": "8c9cbf36",
   "metadata": {},
   "outputs": [],
   "source": [
    "categorical_cols = ['Item_Fat_Content', 'Item_Type', \n",
    "                    'Outlet_Size', 'Outlet_Location_Type', 'Outlet_Type']\n",
    "label_encoders = {}\n",
    "\n",
    "for col in categorical_cols:\n",
    "    le = LabelEncoder()\n",
    "    data[col] = le.fit_transform(data[col])\n",
    "    test[col] = le.transform(test[col])\n",
    "    label_encoders[col] = le"
   ]
  },
  {
   "cell_type": "code",
   "execution_count": 19,
   "id": "44161a40",
   "metadata": {},
   "outputs": [],
   "source": [
    "y = data['Item_Outlet_Sales']\n",
    "X = data.drop(['Item_Identifier','Item_Outlet_Sales','Outlet_Identifier'], axis=1)"
   ]
  },
  {
   "cell_type": "code",
   "execution_count": 24,
   "id": "e793c411",
   "metadata": {},
   "outputs": [
    {
     "name": "stdout",
     "output_type": "stream",
     "text": [
      "Random Forest Training RMSE: 423.57370837454243\n"
     ]
    }
   ],
   "source": [
    "rf_model = RandomForestRegressor(n_estimators=100, random_state=42)\n",
    "rf_model.fit(X, y)\n",
    "y_pred_rf = rf_model.predict(X)\n",
    "rmse_rf = np.sqrt(mean_squared_error(y, y_pred_rf))\n",
    "print(\"Random Forest Training RMSE:\", rmse_rf)"
   ]
  },
  {
   "cell_type": "code",
   "execution_count": 25,
   "id": "93897e26",
   "metadata": {},
   "outputs": [],
   "source": [
    "drop_cols = ['Item_Identifier', 'Outlet_Identifier']\n",
    "X_test = test.drop(columns=drop_cols)"
   ]
  },
  {
   "cell_type": "code",
   "execution_count": 26,
   "id": "875cc56c",
   "metadata": {},
   "outputs": [],
   "source": [
    "test_preds = rf_model.predict(X_test)\n",
    "submission = test[['Item_Identifier', 'Outlet_Identifier']].copy()\n",
    "submission['Item_Outlet_Sales'] = test_preds\n",
    "submission.to_csv('submission_RF_final.csv', index=False)"
   ]
  },
  {
   "cell_type": "code",
   "execution_count": 23,
   "id": "8b39b3cc",
   "metadata": {},
   "outputs": [
    {
     "name": "stdout",
     "output_type": "stream",
     "text": [
      "Training RMSE: 647.7610920362239\n"
     ]
    }
   ],
   "source": [
    "model = RandomForestRegressor(random_state=42, n_estimators=100, max_depth=15)\n",
    "model.fit(X_train, y_train)\n",
    "train_preds = model.predict(X_train)\n",
    "train_rmse = np.sqrt(mean_squared_error(y_train, train_preds))\n",
    "print(f\"Training RMSE: {train_rmse}\")"
   ]
  },
  {
   "cell_type": "code",
   "execution_count": null,
   "id": "12834b5a",
   "metadata": {},
   "outputs": [],
   "source": []
  }
 ],
 "metadata": {
  "kernelspec": {
   "display_name": "Python 3 (ipykernel)",
   "language": "python",
   "name": "python3"
  },
  "language_info": {
   "codemirror_mode": {
    "name": "ipython",
    "version": 3
   },
   "file_extension": ".py",
   "mimetype": "text/x-python",
   "name": "python",
   "nbconvert_exporter": "python",
   "pygments_lexer": "ipython3",
   "version": "3.11.5"
  }
 },
 "nbformat": 4,
 "nbformat_minor": 5
}
